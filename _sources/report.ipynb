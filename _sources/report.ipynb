{
 "cells": [
  {
   "cell_type": "markdown",
   "metadata": {},
   "source": [
    "# Project Report\n",
    "\n",
    "Each team is required to submit a project report as part of the project deliverables (due on **Week 12** Saturday, 6 November 2021 (*23:59*)).\n",
    "\n",
    "The project report (*up to a maximum of 20 pages **including appendix** in pdf format with at least 10-point font size*) should include the following contents:\n",
    "\n",
    "1. Names and student numbers of all team members and project team number (*on the first page*).\n",
    "2. A listing of the project responsibilities of each team member.\n",
    "    * Team members who did not contribute a fair share of the project work will not receive the same marks awarded to the team.\n",
    "3. The ER data model for your application.\n",
    "    * If your ER model is too large (*i.e.,* spanning more than one page), you may want to include a single-page simplified ER model (*with non-key attributes omitted*) before presenting the detailed ER model.\n",
    "    * Provide justification for any non-trivial design decisions made in your ER model.\n",
    "    * List down 5 of the application's constraints that are not captured by the proposed ER date model.\n",
    "4. Relational database schema.\n",
    "    * Provide justification for any non-trivial design decisions made in your relational database schema.\n",
    "    * List down 5 of the application's constraints that are not captured by the proposed relational schema.\n",
    "        * *i.e.,* the constraints that are to be enforced using triggers.\n",
    "5. A description of the three most interesting triggers implemented for the application.\n",
    "    * Provide the name of the trigger.\n",
    "    * Explain the usage of the trigger.\n",
    "    * Justify the design of the trigger implementation.\n",
    "6. An analysis of normal forms of your relational database schema (*not your ER data model*).\n",
    "    * For each table R in your database that is not in 3NF:\n",
    "        * Find a dependency-preserving BCNF decomposition of R if it exists.\n",
    "        * Otherwise, find a 3NF decomposition of R.\n",
    "7. A reflection.\n",
    "    * Summary of any difficulties encountered and lessons learned from the project."
   ]
  }
 ],
 "metadata": {
  "kernelspec": {
   "display_name": "Python 3 (ipykernel)",
   "language": "python",
   "name": "python3"
  },
  "language_info": {
   "codemirror_mode": {
    "name": "ipython",
    "version": 3
   },
   "file_extension": ".py",
   "mimetype": "text/x-python",
   "name": "python",
   "nbconvert_exporter": "python",
   "pygments_lexer": "ipython3",
   "version": "3.7.9"
  },
  "widgets": {
   "application/vnd.jupyter.widget-state+json": {
    "state": {},
    "version_major": 2,
    "version_minor": 0
   }
  }
 },
 "nbformat": 4,
 "nbformat_minor": 4
}
