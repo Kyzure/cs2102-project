{
 "cells": [
  {
   "cell_type": "markdown",
   "metadata": {},
   "source": [
    "# Project Submission (23 marks)\n",
    "\n",
    "This deliverable is due on **Week 12** Saturday, 6 November 2021 (*23:59*).\n",
    "\n",
    "* Submit your project deliverables by creating a **local** directory (*i.e.,* in your computer) named `teamNN` (*where `NN` is your team number*) with the following four files:\n",
    "    1. `report.pdf`: Project report in PDF format.\n",
    "    2. `schema.sql`: SQL commands to create your application's database schema.\n",
    "    3. `data.sql`: SQL commands to load data into your application's database.\n",
    "    4. `proc.sql`: SQL or PL/pgSQL routines of your implementation.\n",
    "* It is important that your submission files are named as indicated above and that you have tested your code using `psql`.\n",
    "    * Marks will be deducted if any of your file cannot be run on `psql` in the correct order (*i.e.,* `schema.sql` followed by `data.sql` followed by `proc.sql`).\n",
    "* Compress the directory into a zip file named `teamNN.zip`.\n",
    "* Upload the zip file into LumiNUS file folder for your team.\n",
    "\n",
    "For late submissions, 5 marks will be deducted for each late day up to two late days.\n",
    "Project submitted after the second late day will receive zero marks and will not be graded."
   ]
  },
  {
   "cell_type": "code",
   "execution_count": null,
   "metadata": {},
   "outputs": [],
   "source": []
  }
 ],
 "metadata": {
  "kernelspec": {
   "display_name": "Python 3 (ipykernel)",
   "language": "python",
   "name": "python3"
  },
  "language_info": {
   "codemirror_mode": {
    "name": "ipython",
    "version": 3
   },
   "file_extension": ".py",
   "mimetype": "text/x-python",
   "name": "python",
   "nbconvert_exporter": "python",
   "pygments_lexer": "ipython3",
   "version": "3.7.9"
  },
  "widgets": {
   "application/vnd.jupyter.widget-state+json": {
    "state": {},
    "version_major": 2,
    "version_minor": 0
   }
  }
 },
 "nbformat": 4,
 "nbformat_minor": 4
}
