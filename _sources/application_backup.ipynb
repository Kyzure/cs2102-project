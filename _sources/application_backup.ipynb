{
 "cells": [
  {
   "cell_type": "markdown",
   "metadata": {},
   "source": [
    "# Application\n",
    "\n",
    "Your company is a very large company with many employees and many meeting rooms available.\n",
    "For simplicity, the company is located at a single building.\n",
    "\n",
    "Unfortunately, with the current pandemic, the meeting rooms cannot be easily used and bookings must be done before any employee can come to office and use the meeting room.\n",
    "Due to interdependence of the components here, you are advised to read everything first before you start to design your ER diagram.\n",
    "\n",
    "You may want to do the following:\n",
    "\n",
    "1. Identify all the constraints as clearly as possible.\n",
    "2. Satisfy as many constraints as possible using ER diagram but you may have to identify constraints that can not be enforced.\n",
    "    * It's okay not to enforce everything as long as you are clear which are not enforced.\n",
    "    * You may have to enforce this using triggers.\n",
    "    * Since you have not learnt triggers yet, you should at least recognize the constraints that are not currently enforced by your ER diagram so that you can enforce it later.\n",
    "3. Draw the ER diagram and simulate the possibilities of violating the constraints.\n",
    "\n",
    "Note that the specifications are not formal to mimic a specification that is drafted by people who are not familiar with any database systems.\n",
    "As such, you are to fill in the informal or ambiguous specification with reasonable real-world constraints.\n",
    "Of course, in real-life, you have to ask for clarification about the project but in this project, you are given some flexibility to set your own constraints as long as they are reasonable."
   ]
  },
  {
   "cell_type": "markdown",
   "metadata": {},
   "source": [
    "## Employee\n",
    "\n",
    "Each employee is assigned a unique employee ID and a unique email address when they are employed.\n",
    "Additionally, their name and contact number must be recorded along with other employee data.\n",
    "\n",
    "An employee must belong to a department which is identified by their department ID with their name recorded.\n",
    "There are three different kinds of employees:\n",
    "\n",
    "1. **Junior**\n",
    "2. **Senior**\n",
    "3. **Manager**\n",
    "\n",
    "Each employee must be one (*and only one*) of the three kinds of employees above.\n",
    "Currently, we do not allow *junior* employee to book any meeting rooms.\n",
    "They have to ask the *senior* employee or *manager* to book the room for them."
   ]
  },
  {
   "cell_type": "markdown",
   "metadata": {},
   "source": [
    "### Managerial Duty\n",
    "\n",
    "A manager have additional duties with respect to the meeting room and bookings.\n",
    "\n",
    "1. Every booking must be approved by a manager from the same department.\n",
    "2. Every meeting room's capacity can only be set by a manager to conform to social distancing measures."
   ]
  },
  {
   "cell_type": "markdown",
   "metadata": {},
   "source": [
    "### Health Declaration\n",
    "\n",
    "Every employee must do a daily health declaration.\n",
    "For simplicity, in the health declaration, they simply have to record their temperature.\n",
    "If the temperature is higher than 37.5 celsius, we say that they are having a fever.\n",
    "\n",
    "In the case of a fever being detected, all the people who have been in contact with the employee (*i.e.,* in the same meeting room) will have to contacted.\n",
    "We will explain about [contact tracing](#contact-tracing) at a later part."
   ]
  },
  {
   "cell_type": "markdown",
   "metadata": {},
   "source": [
    "## Meeting Rooms\n",
    "\n",
    "The meeting rooms can be uniquely identified by their floor number and their room number.\n",
    "Unfortunately, due to historical accident, the name of the room may not be unique.\n",
    "This has caused many grievances among the employees but everybody knows that there are many rooms named the \"Database Meeting Room\" located on different floors.\n",
    "\n",
    "Besides the name, each meeting room also has their maximum capacity.\n",
    "This capacity may be changed by a [manager](#employee) depending on government regulations."
   ]
  },
  {
   "cell_type": "markdown",
   "metadata": {},
   "source": [
    "### Booking Procedure\n",
    "\n",
    "A meeting room can be booked by either senior employees or managers.\n",
    "We do not allow junior employees to book a room.\n",
    "\n",
    "The booking is based on 1-hour sessions (*e.g.,* from 09:00 (*inclusive*) to 10:00 (*exclusive*), or [09:00, 10:00) for simplicity if you are familiar with the notation).\n",
    "So if an employee needs to book the room for more than 1 hour, they have to book multiple sessions.\n",
    "For obvious reason, each meeting room can only be booked by one group.\n",
    "\n",
    "The steps for booking is described as follows:\n",
    "\n",
    "1. A senior employee or a manager books a room by specifying the room and the session.\n",
    "    * If the room is not available for the given session, no booking can be done. \n",
    "    * If the employee is having a fever, they cannot book any room.\n",
    "2. They then add the participants (*i.e.,* employees) to the booked room up to a maximum of the capacity of the room.\n",
    "    * The employee booking the room is also counted as a participant and should be counted towards the number of people in the room.\n",
    "    * If any of the participants are having a fever, they cannot be added.\n",
    "3. A manager from the same department approves the booking.\n",
    "    * A manager may approve their own booking.\n",
    "    * A booking that is not approved are immediately deleted to allow for other people to book the room.\n",
    "    * For simplicity, once approved, we assume there are no changes in the participants and they will definitely come to the meeting room on the stipulated day."
   ]
  },
  {
   "cell_type": "markdown",
   "metadata": {},
   "source": [
    "### Meeting Room Dynamics\n",
    "\n",
    "When a meeting room has its capacity changed, any room booking *after the change date* with more participants (**including** the employee who made the booking) will automatically be removed.\n",
    "This is regardless of whether they are approved or not.\n",
    "\n",
    "The date when the capacity is changed is assumed to be today but it will be part of the input."
   ]
  },
  {
   "cell_type": "markdown",
   "metadata": {},
   "source": [
    "## Contact Tracing\n",
    "\n",
    "Due to the pandemic, we have to be vigilant.\n",
    "If an employee is recorded to have a fever at a given day D, a few things must happen:\n",
    "\n",
    "1. The employee is removed from all future meeting room booking, approved or not.\n",
    "    * If the employee is the one booking the room, the booking is cancelled, approved or not.\n",
    "    * This employee cannot book a room until they are no longer having fever.\n",
    "2. All employees in the same *approved* meeting room from the past 3 (*i.e.,* from day D-3 to day D) days are contacted.\n",
    "    * These employees are removed from future meeting in the next 7 days (*i.e.,* from day D to day D+7).\n",
    "\n",
    "These restrictions are based on the assumptions that once approved, the meeting will occur with all participants attending."
   ]
  },
  {
   "cell_type": "markdown",
   "metadata": {},
   "source": [
    "### Resignation\n",
    "\n",
    "When an employee resign, we still want to keep all the *past* records regarding this employee.\n",
    "Otherwise, the contact tracing may be compromised.\n",
    "\n",
    "However, they are no longer allowed to book or approve any meetings rooms.\n",
    "Additionally, any *future* records (*e.g.,* future meetings) are removed."
   ]
  },
  {
   "cell_type": "code",
   "execution_count": null,
   "metadata": {},
   "outputs": [],
   "source": []
  }
 ],
 "metadata": {
  "kernelspec": {
   "display_name": "Python 3 (ipykernel)",
   "language": "python",
   "name": "python3"
  },
  "language_info": {
   "codemirror_mode": {
    "name": "ipython",
    "version": 3
   },
   "file_extension": ".py",
   "mimetype": "text/x-python",
   "name": "python",
   "nbconvert_exporter": "python",
   "pygments_lexer": "ipython3",
   "version": "3.8.2"
  },
  "widgets": {
   "application/vnd.jupyter.widget-state+json": {
    "state": {},
    "version_major": 2,
    "version_minor": 0
   }
  }
 },
 "nbformat": 4,
 "nbformat_minor": 4
}
