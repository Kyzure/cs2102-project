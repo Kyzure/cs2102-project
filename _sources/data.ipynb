{
 "cells": [
  {
   "cell_type": "markdown",
   "metadata": {},
   "source": [
    "# ER Data Model Submissions (5 marks)\n",
    "\n",
    "The deliverable is due on **Week 6** Saturday, Saturday, 18 September 2021 (*23:59*).\n",
    "Note that the time is 23:59 and it is 23:59:00 since that's the latest time we can put into LumiNUS.\n",
    "\n",
    "Each team is to upload a pdf file named `teamNN.pdf`, where `NN` is the team number to the LumiNUS file folder belonging to their team.\n",
    "\n",
    "The submitted PDF file must be at most 4 pages and consists of the following contents:\n",
    "\n",
    "1. Project team number & names of team members (*on the first page*)\n",
    "2. ER data model for the application.\n",
    "    If your ER model is too large (*i.e.,* spanning more than one page), you may want to include a single-page simplified ER model (*with non-key attributes omitted*) before presenting the detailed ER model.\n",
    "3. Justification for any non-trivial design decisions made.\n",
    "4. List down 5 of the application's constraints that are not captured by the proposed ER data model.\n",
    "    * If there aren't any, we will assume that all constraints are captured.\n",
    "    * The grading will then be based on this assumption.\n",
    "\n",
    "For late submissions, one mark will be deducted for each late day up to two late days.\n",
    "Submissions after the second late day will receive zero marks and will not be graded.\n",
    "\n",
    "We will publish a suggested ER data model on LumiNUS.\n",
    "Your team may consider using the published ER data model or a modified variant of it for your project."
   ]
  },
  {
   "cell_type": "code",
   "execution_count": null,
   "metadata": {},
   "outputs": [],
   "source": []
  }
 ],
 "metadata": {
  "kernelspec": {
   "display_name": "Python 3 (ipykernel)",
   "language": "python",
   "name": "python3"
  },
  "language_info": {
   "codemirror_mode": {
    "name": "ipython",
    "version": 3
   },
   "file_extension": ".py",
   "mimetype": "text/x-python",
   "name": "python",
   "nbconvert_exporter": "python",
   "pygments_lexer": "ipython3",
   "version": "3.7.9"
  },
  "widgets": {
   "application/vnd.jupyter.widget-state+json": {
    "state": {},
    "version_major": 2,
    "version_minor": 0
   }
  }
 },
 "nbformat": 4,
 "nbformat_minor": 4
}
