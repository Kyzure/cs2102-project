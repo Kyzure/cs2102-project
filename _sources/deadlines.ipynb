{
 "cells": [
  {
   "cell_type": "markdown",
   "metadata": {},
   "source": [
    "# Project Deadlines & Deliverables\n",
    "\n",
    "There are two deadlines for this project:\n",
    "\n",
    "1. **Week 6**: Saturday, 18 September 2021 (*23:59*)\n",
    "2. **Week 12**: Saturday, 6 November 2021 (*23:59*)\n",
    "\n",
    "The project evaluation will be conducted during week 13 (Monday, 8 November 2021 to Friday, 12 November 2021 but possibly may go into Saturday, 12 November 2021).\n",
    "Each team will be allocated 15-20 minutes to demo the project and to answer questions from a project evaluator.\n",
    "The registration for the project evaluation slots will be announced later."
   ]
  },
  {
   "cell_type": "code",
   "execution_count": null,
   "metadata": {},
   "outputs": [],
   "source": []
  }
 ],
 "metadata": {
  "kernelspec": {
   "display_name": "Python 3 (ipykernel)",
   "language": "python",
   "name": "python3"
  },
  "language_info": {
   "codemirror_mode": {
    "name": "ipython",
    "version": 3
   },
   "file_extension": ".py",
   "mimetype": "text/x-python",
   "name": "python",
   "nbconvert_exporter": "python",
   "pygments_lexer": "ipython3",
   "version": "3.7.9"
  },
  "widgets": {
   "application/vnd.jupyter.widget-state+json": {
    "state": {},
    "version_major": 2,
    "version_minor": 0
   }
  }
 },
 "nbformat": 4,
 "nbformat_minor": 4
}
