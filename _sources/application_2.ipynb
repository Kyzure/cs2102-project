{
 "cells": [
  {
   "cell_type": "markdown",
   "metadata": {},
   "source": [
    "# Application\n",
    "\n",
    "Your company is a very large company with many employees and many meeting rooms available.\n",
    "For simplicity, the company is located at a single building.\n",
    "\n",
    "Unfortunately, with the current pandemic, the meeting rooms cannot be easily used and bookings must be done before any employee can come to office and use the meeting room.\n",
    "Due to interdependence of the components here, you are advised to read everything first before you start to design your ER diagram.\n",
    "\n",
    "You may want to do the following:\n",
    "\n",
    "1. Identify all the constraints as clearly as possible.\n",
    "2. Satisfy as many constraints as possible using ER diagram but you may have to identify constraints that can not be enforced.\n",
    "    * It's okay not to enforce everything as long as you are clear which are not enforced.\n",
    "    * You may have to enforce this using triggers.\n",
    "    * Since you have not learnt triggers yet, you should at least recognize the constraints that are not currently enforced by your ER diagram so that you can enforce it later.\n",
    "3. Draw the ER diagram and simulate the possibilities of violating the constraints.\n",
    "\n",
    "Note that the specifications are not formal to mimic a specification that is drafted by people who are not familiar with any database systems.\n",
    "As such, you are to fill in the informal or ambiguous specification with reasonable real-world constraints.\n",
    "Of course, in real-life, you have to ask for clarification about the project but in this project, you are given some flexibility to set your own constraints as long as they are reasonable."
   ]
  },
  {
   "cell_type": "markdown",
   "metadata": {},
   "source": [
    "## Employee\n",
    "\n",
    "Each employee is assigned a unique employee ID when they are employed.\n",
    "Additionally, their name, contact number, company email address and department must be recorded along with other employee data you feel important.\n",
    "\n",
    "There are three different kinds of employees and all employees are full-time employees:\n",
    "\n",
    "1. **Junior**\n",
    "2. **Senior**\n",
    "3. **Manager**\n",
    "\n",
    "Each employee must be one (*and only one*) of the kinds of employees above.\n",
    "Currently, we do not allow *junior* employee to book any meeting rooms.\n",
    "They have to ask the *senior* employee or *manager* to book the room for them.\n",
    "\n",
    "Managers also have an additional duty of maintaining room capacity to conform to government policy regarding safe distancing measures.\n",
    "Which means, they are the only one who can change the capacity of [meeting rooms](#meeting-rooms).\n",
    "\n",
    "Every junior and senior employee has a supervising manager.\n",
    "A manager may or may not have a supervising manager.\n",
    "Although there is no formal designation, we usually call a manager without supervising manager an **executive manager**.\n",
    "Each manager must be a manager of at least one employee and they cannot be their own manager.\n",
    "\n",
    "If a manager quits, then there is a designated *dummy* manager entry to temporarily take over.\n",
    "There is no actual employee with this employee ID, but the entry is just there in the table to handle this."
   ]
  },
  {
   "cell_type": "markdown",
   "metadata": {},
   "source": [
    "### Health Declaration\n",
    "\n",
    "Every employee must do a daily health declaration.\n",
    "For simplicity, in the health declaration, they simply have to record their temperature.\n",
    "If the temperature is higher than 37.5 celsius, we say that they are having a fever.\n",
    "\n",
    "In the case of a fever being detected, all the people who have been in contact with the employee (*i.e.,* in the same meeting room) will have to contacted.\n",
    "We will explain about [contact tracing](#contact-tracing) at a later part."
   ]
  },
  {
   "cell_type": "markdown",
   "metadata": {},
   "source": [
    "## Meeting Rooms\n",
    "\n",
    "The meeting rooms can be uniquely identified by their floor number and their room number.\n",
    "Unfortunately, due to historical accident, the name of the room may not be unique.\n",
    "This has caused many grievances among the employees but everybody knows that there are many rooms named the \"Database Meeting Room\" located on different floors.\n",
    "\n",
    "Besides the name, each meeting room also has their maximum capacity.\n",
    "This capacity may be changed by a [manager](#employee) depending on government regulations.\n",
    "\n",
    "To avoid complications, meetings are only allowed for people in the same departments.\n",
    "That is, there is no meeting between people from different departments, that has to be an online meeting."
   ]
  },
  {
   "cell_type": "markdown",
   "metadata": {},
   "source": [
    "### Booking Procedure\n",
    "\n",
    "A meeting room can be booked by either senior employees or managers.\n",
    "We do not allow junior employees to book a room.\n",
    "\n",
    "The booking is based on 1-hour sessions (*e.g.,* from 09:00 (*inclusive*) to 10:00 (*exclusive*), or [09:00, 10:00) for simplicity if you are familiar with the notation).\n",
    "So if an employee needs to book the room for more than 1 hour, they have to book multiple sessions.\n",
    "For obvious reason, each meeting room can only be booked by one group.\n",
    "\n",
    "For ease of contract tracing, when a room is booked, all participants must be recorded and the employee doing the booking must be one of the participants.\n",
    "Clearly, the number of participants cannot be more than the capacity of the room.\n",
    "\n",
    "If the employee booking the room is having a fever, then the booking will be automatically rejected.\n",
    "Otherwise, the booking is automatically accepted."
   ]
  },
  {
   "cell_type": "markdown",
   "metadata": {},
   "source": [
    "## Contact Tracing\n",
    "\n",
    "Due to the pandemic, we have to be vigilant.\n",
    "If an employee is recorded to have a fever at a day D, a few things must happen:\n",
    "\n",
    "1. The employee is removed from all future meeting room booking.\n",
    "    * If the employee is the one booking the room, the booking is cancelled.\n",
    "    * This employee cannot book a room.\n",
    "2. All employees in the same meeting room from the past 3 days (*i.e.,* up to D-3) are marked.\n",
    "    * These employees are removed from future meeting in the next 7 days (*i.e.,* up to D+7)."
   ]
  },
  {
   "cell_type": "code",
   "execution_count": null,
   "metadata": {},
   "outputs": [],
   "source": []
  }
 ],
 "metadata": {
  "kernelspec": {
   "display_name": "Python 3 (ipykernel)",
   "language": "python",
   "name": "python3"
  },
  "language_info": {
   "codemirror_mode": {
    "name": "ipython",
    "version": 3
   },
   "file_extension": ".py",
   "mimetype": "text/x-python",
   "name": "python",
   "nbconvert_exporter": "python",
   "pygments_lexer": "ipython3",
   "version": "3.7.9"
  },
  "widgets": {
   "application/vnd.jupyter.widget-state+json": {
    "state": {},
    "version_major": 2,
    "version_minor": 0
   }
  }
 },
 "nbformat": 4,
 "nbformat_minor": 4
}
