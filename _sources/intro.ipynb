{
 "cells": [
  {
   "cell_type": "markdown",
   "metadata": {},
   "source": [
    "# Project Task\n",
    "\n",
    "The objective of this team project is for you to apply what you have learned in class to design and develop a database application using [PostgreSQL](https://www.postgresql.org/docs/current/index.html).\n",
    "The project is to be done in teams of four students.\n",
    "\n",
    "You are to develop a database application for a company to book meeting rooms.\n",
    "Unfortunately, with the current pandemic, there are restrictions on the number of people to be in the meeting room.\n",
    "This project consists of the following five tasks:\n",
    "\n",
    "1. Design a ER data model for the application. Your ER model should capture as many of the application's constraints as possible.\n",
    "\n",
    "2. Translate your ER data model into a relational database schema. Your relational schema should enforce as many of the application’s constraints as possible.\n",
    "\n",
    "3. Implement a SQL or PL/pgSQL function/procedure for each of the functionalities listed in Application Functionalities. You should implement appropriate triggers (if necessary) to enforce all the application’s constraints. You may use any of the PostgreSQL’s features and any SQL or PL/pgSQL constructs beyond what is covered in class.\n",
    "\n",
    "4. Populate each table in your database with synthetic data. Each table should have at least 10 records. You may use online data generators (*e.g.,* [Mockaroo](https://mockaroo.com), [Generate Data](https://www.generatedata.com)) or write your own scripts to generate the synthetic data.\n",
    "\n",
    "5. For each table R in your database schema that is not in 3NF, find a dependency-preserving BCNF decomposition of R if it exists; if not, find a 3NF decomposition of R."
   ]
  },
  {
   "cell_type": "code",
   "execution_count": null,
   "metadata": {},
   "outputs": [],
   "source": []
  }
 ],
 "metadata": {
  "kernelspec": {
   "display_name": "Python 3 (ipykernel)",
   "language": "python",
   "name": "python3"
  },
  "language_info": {
   "codemirror_mode": {
    "name": "ipython",
    "version": 3
   },
   "file_extension": ".py",
   "mimetype": "text/x-python",
   "name": "python",
   "nbconvert_exporter": "python",
   "pygments_lexer": "ipython3",
   "version": "3.7.9"
  },
  "widgets": {
   "application/vnd.jupyter.widget-state+json": {
    "state": {},
    "version_major": 2,
    "version_minor": 0
   }
  }
 },
 "nbformat": 4,
 "nbformat_minor": 4
}
